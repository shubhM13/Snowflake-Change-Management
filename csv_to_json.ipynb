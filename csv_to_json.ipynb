{
 "cells": [
  {
   "cell_type": "code",
   "execution_count": 1,
   "metadata": {},
   "outputs": [
    {
     "name": "stdout",
     "output_type": "stream",
     "text": [
      "{\"PRS\": {\"SCHEMA\": \"PRS\", \"TABLES\": \"\", \"VIEWS\": \"PURCH_ORG_V,COMP_CODE_V,MATERIAL_V,YMATLSRVC_V,YPACK0001_V,YPACK0002_V,YRAW00001_V,YRAW00002_V,YFG0001_V,YFING0002_V,VENDOR_V,YPVENDOR_V,Y5PPLZ_V\", \"FF\": \"\", \"STAGES\": \"\", \"SP\": \"\", \"FUNCTIONS\": \" \", \"STREAMS\": \"\", \"TASKS\": \"\"}}\n"
     ]
    }
   ],
   "source": [
    "import csv\n",
    "import json\n",
    "  \n",
    "# Function to convert a CSV to JSON\n",
    "# Takes the file paths as arguments\n",
    "def make_json(csvFilePath, jsonFilePath):\n",
    "     \n",
    "    # create a dictionary\n",
    "    data = {}\n",
    "     \n",
    "    # Open a csv reader called DictReader\n",
    "    with open(csvFilePath, encoding='utf-8') as csvf:\n",
    "        csvReader = csv.DictReader(csvf)\n",
    "         \n",
    "        # Convert each row into a dictionary \n",
    "        # and add it to data\n",
    "        for rows in csvReader:\n",
    "             \n",
    "            # Assuming a column named 'No' to\n",
    "            # be the primary key\n",
    "            key = rows['SCHEMA']\n",
    "            data[key] = rows\n",
    " \n",
    "    # Open a json writer, and use the json.dumps() \n",
    "    # function to dump data\n",
    "    with open(jsonFilePath, 'w', encoding='utf-8') as jsonf:\n",
    "        jsonf.write(json.dumps(data, indent=4))\n",
    "    print(json.dumps(data))\n",
    "         \n",
    "# Driver Code\n",
    "csvFilePath = r'DBO.csv'\n",
    "jsonFilePath = r'DBO.json'\n",
    " \n",
    "# Call the make_json function\n",
    "make_json(csvFilePath, jsonFilePath)\n"
   ]
  },
  {
   "cell_type": "code",
   "execution_count": null,
   "metadata": {},
   "outputs": [],
   "source": []
  }
 ],
 "metadata": {
  "kernelspec": {
   "display_name": "Python 3",
   "language": "python",
   "name": "python3"
  },
  "language_info": {
   "codemirror_mode": {
    "name": "ipython",
    "version": 3
   },
   "file_extension": ".py",
   "mimetype": "text/x-python",
   "name": "python",
   "nbconvert_exporter": "python",
   "pygments_lexer": "ipython3",
   "version": "3.7.3"
  }
 },
 "nbformat": 4,
 "nbformat_minor": 4
}
